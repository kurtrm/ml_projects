{
 "cells": [
  {
   "cell_type": "markdown",
   "metadata": {},
   "source": [
    "## Regression Dive\n",
    "\n",
    "I'd like to be as thorough in my understanding as possible, so this my be slow but it will be very rigorous.\n",
    "\n",
    "**Note**: As of September 22, I read an article for some tips and tricks in Jupyter. I've intermixed notes regarding these tips and tricks, so not all cells are exclusively devoted to regression."
   ]
  },
  {
   "cell_type": "code",
   "execution_count": 101,
   "metadata": {
    "collapsed": true
   },
   "outputs": [],
   "source": [
    "%matplotlib inline\n",
    "import pandas as pd\n",
    "import numpy as np\n",
    "import matplotlib.pyplot as plt\n",
    "import seaborn\n",
    "\n",
    "np.random.seed(42)"
   ]
  },
  {
   "cell_type": "markdown",
   "metadata": {
    "collapsed": true
   },
   "source": [
    "Above we imported seaborn, another plotting and visualization library that sits on top of matplotlib. It will make the visualizations look _slightly_ better."
   ]
  },
  {
   "cell_type": "markdown",
   "metadata": {
    "collapsed": true
   },
   "source": [
    "I was having trouble understanding the notation for linear regression. It turns out I was mixing up the concept of training the model vice using the model equation to make the prediction.\n",
    "\n",
    "We see a typical linear regression model displayed as follows:\n",
    "\n",
    "$\\hat{y} = \\theta_0 + \\theta_1x_1 + \\theta_2x_2 + ... + \\theta_nx_n$\n",
    "\n",
    "**This is the formula used to make the prediction. I was confusing the model formula with the training formula, which different.**\n",
    "\n",
    "Each $x_n$ represents a feature of the data, for example, a feature of the housing data would be median income or bedrooms per household or proximity to water, etc. Each $\\theta_n$ represents a weight that was trained using the training data to generate our linear regression model. He covers the normal equation in the next section. Each feature will have its own $\\theta$ that was generated for that feature. \n",
    "\n",
    "We then put this into a \"simpler\" form:\n",
    "\n",
    "$\\hat{y} = \\theta^{T}\\cdot\\textbf{x}$\n",
    "\n",
    "This is a vectorized form of the equation before it. $\\hat{y}$ still represents the prediction. $\\theta$ is a column vector consisting of each feature's weight. **x** is a column vector of each feature. In order to get the same expression as the function above, we perform a dot product between $\\theta$ and **x**. **In order to perform a dot product between these two vectors, we have to transpose one of them; thus, we transpose $\\theta$.** (The first vector must have the same number of columns as the second vector's number of rows.)\n",
    "\n",
    "We would then get the same expression as above. See! Not too hard! (Took me a while to figure that out since I'm still building my familiarity with vector notation.)"
   ]
  },
  {
   "cell_type": "markdown",
   "metadata": {},
   "source": [
    "Aurelien covers the normal equation that outputs a $\\theta$ that reduces the cost function. **I'll take this as a lookup to see how exactly this equation does this.**\n",
    "\n",
    "$\\hat{\\theta} = (\\textbf{X}^{T}\\cdot\\textbf{X})^{-1}\\cdot\\textbf{X}^{T}\\cdot\\textbf{y}$"
   ]
  },
  {
   "cell_type": "code",
   "execution_count": 102,
   "metadata": {
    "scrolled": false
   },
   "outputs": [
    {
     "data": {
      "text/plain": [
       "[<matplotlib.lines.Line2D at 0x1bff61a1240>]"
      ]
     },
     "execution_count": 102,
     "metadata": {},
     "output_type": "execute_result"
    },
    {
     "data": {
      "image/png": "[encoded data removed]",
      "text/plain": [
       "<matplotlib.figure.Figure at 0x1bff613ee10>"
      ]
     },
     "metadata": {},
     "output_type": "display_data"
    }
   ],
   "source": [
    "X = 2 * np.random.rand(100, 1)\n",
    "y = 4 + 3 * X + np.random.randn(100, 1)\n",
    "\n",
    "plt.plot(X, y, 'o')"
   ]
  },
  {
   "cell_type": "code",
   "execution_count": 103,
   "metadata": {},
   "outputs": [],
   "source": [
    "X_b = np.c_[np.ones((100, 1)), X] # add 1 to each instance"
   ]
  },
  {
   "cell_type": "code",
   "execution_count": 104,
   "metadata": {},
   "outputs": [
    {
     "name": "stdout",
     "output_type": "stream",
     "text": [
      "[[ 0.03523199 -0.02683222]\n",
      " [-0.02683222  0.02853394]]\n",
      "[[ 100.           94.03614868]\n",
      " [  94.03614868  123.47395265]]\n",
      "0.01063420837664191\n"
     ]
    }
   ],
   "source": [
    "print(np.linalg.inv(X_b.T.dot(X_b)))\n",
    "print(X_b.T.dot(X_b))\n",
    "print(1/94.03614868)"
   ]
  },
  {
   "cell_type": "markdown",
   "metadata": {},
   "source": [
    "Taking an inverse of a matrix is a little more complicated than I thought. I originally tried to take the inverse of X_b above, but I got an error. This is because only square matrices can be inversed. \n",
    "\n",
    "$A = \\begin{bmatrix}\n",
    "a & b \\\\\n",
    "c & d\n",
    "\\end{bmatrix}$\n",
    "\n",
    "$A^{-1} = \\cfrac{1}{ad - bc}\\begin{bmatrix}\n",
    "d & -b \\\\\n",
    "-c & a\n",
    "\\end{bmatrix}$\n",
    "\n",
    "This gets a little more complicated with matrices of dimensions greater than 2 x 2. "
   ]
  },
  {
   "cell_type": "markdown",
   "metadata": {},
   "source": [
    "From my understanding through searches on the internet, this column of ones is required in order to deduce the y-intercept or the _bias_ of the data set."
   ]
  },
  {
   "cell_type": "code",
   "execution_count": 105,
   "metadata": {},
   "outputs": [
    {
     "data": {
      "text/plain": [
       "array([[ 4.21509616],\n",
       "       [ 2.77011339]])"
      ]
     },
     "execution_count": 105,
     "metadata": {},
     "output_type": "execute_result"
    }
   ],
   "source": [
    "theta_best = np.linalg.inv(X_b.T.dot(X_b)).dot(X_b.T).dot(y)\n",
    "theta_best # expect different numbers than the book b"
   ]
  },
  {
   "cell_type": "markdown",
   "metadata": {},
   "source": [
    "Aurelien mentions $\\theta_0 = 3.865$ and $\\theta_1 = 3.139$. I don't know what he's referring to here."
   ]
  },
  {
   "cell_type": "code",
   "execution_count": 106,
   "metadata": {},
   "outputs": [
    {
     "data": {
      "text/plain": [
       "array([[ 4.21509616],\n",
       "       [ 9.75532293]])"
      ]
     },
     "execution_count": 106,
     "metadata": {},
     "output_type": "execute_result"
    }
   ],
   "source": [
    "X_new = np.array([[0], [2]])\n",
    "X_new_b = np.c_[np.ones((2, 1)), X_new]\n",
    "y_predict = X_new_b.dot(theta_best)\n",
    "y_predict"
   ]
  },
  {
   "cell_type": "code",
   "execution_count": 107,
   "metadata": {
    "scrolled": true
   },
   "outputs": [
    {
     "data": {
      "text/plain": [
       "[0, 2, 0, 15]"
      ]
     },
     "execution_count": 107,
     "metadata": {},
     "output_type": "execute_result"
    },
    {
     "data": {
      "image/png": "[encoded data removed]",
      "text/plain": [
       "<matplotlib.figure.Figure at 0x1bff61f03c8>"
      ]
     },
     "metadata": {},
     "output_type": "display_data"
    }
   ],
   "source": [
    "plt.plot(X_new, y_predict, \"r-\")\n",
    "plt.plot(X, y, \"b.\")\n",
    "plt.axis([0, 2, 0, 15])"
   ]
  },
  {
   "cell_type": "markdown",
   "metadata": {},
   "source": [
    "To clarify what we did here, we simply added two new data points at the extremes of our plot in order to draw the line. The 0 is equal to the y-intercept and 2 is at the far right of our plot. This is just to show the line!\n",
    "\n",
    "Of course, sklearn provides these calculations in one convenient class."
   ]
  },
  {
   "cell_type": "code",
   "execution_count": 108,
   "metadata": {},
   "outputs": [
    {
     "data": {
      "text/plain": [
       "(array([ 4.21509616]), array([[ 2.77011339]]))"
      ]
     },
     "execution_count": 108,
     "metadata": {},
     "output_type": "execute_result"
    }
   ],
   "source": [
    "from sklearn.linear_model import LinearRegression\n",
    "\n",
    "lin_reg = LinearRegression()\n",
    "lin_reg.fit(X, y)\n",
    "lin_reg.intercept_, lin_reg.coef_"
   ]
  },
  {
   "cell_type": "code",
   "execution_count": 109,
   "metadata": {},
   "outputs": [
    {
     "data": {
      "text/plain": [
       "array([[ 4.21509616],\n",
       "       [ 9.75532293]])"
      ]
     },
     "execution_count": 109,
     "metadata": {},
     "output_type": "execute_result"
    }
   ],
   "source": [
    "lin_reg.predict(X_new)"
   ]
  },
  {
   "cell_type": "markdown",
   "metadata": {},
   "source": [
    "### Really important note\n",
    "\n",
    "The operation $X^{T}\\cdot X$'s computational compexity is about $O^{2.4-3}$ depending on the implementation. If you double the number of features, you multiply the computation by roughly $2^{2.4}$ to $2^{3}$. Expect this computation to get noticeably slower as the number of features grow. **BUT** it's linear when it comes to the number of instances. "
   ]
  },
  {
   "cell_type": "markdown",
   "metadata": {},
   "source": [
    "I went back to being confused because I couldn't understand where our prediction values and the theta were coming from. It seemed like you needed one to determine the other value. Sal explains a two dimensional, algebraic example here: https://www.khanacademy.org/math/statistics-probability/describing-relationships-quantitative-data/more-on-regression/v/second-regression-example\n",
    "\n",
    "What to glean from this is that we don't have to have a starting value from the start. We can get both m and b ($\\theta_0$, $\\theta_1$) from the values themselves. This is what the normal equation does, and, I think, this is a vectorized form of the mean squared error formula. The reason that we use gradient descent in the following secctions is that it is computationally expensive as the number of features and instances grow. Gradient descent helps us reach the value of $\\theta$ faster."
   ]
  },
  {
   "cell_type": "markdown",
   "metadata": {},
   "source": [
    "## Gradient Descent\n",
    "\n",
    "In order to find the $\\theta$ that reduces the cost function as quickly as possible, we take the partial derivate of the mean squared error function with respect to $\\theta$. Gradients point in the direction of steepest ascent, So this will constantly point us in the direction of the min. However, we have to adjust the steps we take as we descend, otherwise, we may skip over the minimum. Gradient descent is a constant battle of balancing # iterations vs the size of the steps. Lastly, we find the gradient descent by subtracting the descent form the last $\\theta$.\n",
    "\n",
    "$\\theta^{next step} = \\theta - \\eta\\nabla_{\\theta}MSE(\\theta)$"
   ]
  },
  {
   "cell_type": "code",
   "execution_count": 110,
   "metadata": {},
   "outputs": [],
   "source": [
    "eta = 0.1\n",
    "n_iterations = 1000\n",
    "m = 100\n",
    "\n",
    "theta = np.random.randn(2, 1)\n",
    "thetas = [] # I added a list of thetas in here because I was curious when the iterations I wasted. \n",
    "# Goes to show that maybe 1000 is a little much.\n",
    "\n",
    "for iteration in range(n_iterations):\n",
    "    gradients = 2/m * X_b.T.dot(X_b.dot(theta) - y)\n",
    "    theta = theta - eta * gradients\n",
    "    thetas.append(theta)"
   ]
  },
  {
   "cell_type": "markdown",
   "metadata": {},
   "source": [
    "Above, we have an implementation of **batch gradient descent**. It performs the calculations on all the data at each step. This is fine if we require a more precise value for $\\theta$ or if our data isn't excessively large. IF we need to reduce the iterations further, we can perform **stochastic gradient descent**. This takes a random sample of data at each step, so the MSE may vary, though it will consistently reduce in aggregate (until it gets close to the min, where it will still settle at random numbers near the min). It will not give an optimal min of $\\theta$.\n",
    "\n",
    "Additionally, the random nature of the SGD helps it break out of local minima, thus enabling it to find the globals.\n",
    "\n",
    "Since it will never actually settle out at a minimum, we perform _simulated annealing_, by which we reduce the learning rate over time (it's put on a _learning schedule_)."
   ]
  },
  {
   "cell_type": "code",
   "execution_count": 111,
   "metadata": {},
   "outputs": [],
   "source": [
    "n_epochs = 50\n",
    "t0, t1 = 5, 50\n",
    "\n",
    "def learning_schedule(t):\n",
    "    return t0 / (t + t1)\n",
    "\n",
    "theta = np.random.randn(2, 1)\n",
    "\n",
    "for epoch in range(n_epochs):\n",
    "    for i in range(m):\n",
    "        random_index = np.random.randint(m)\n",
    "        xi = X_b[random_index:random_index+1]\n",
    "        yi = y[random_index:random_index+1]\n",
    "        gradients = 2 * xi.T.dot(xi.dot(theta) - yi)\n",
    "        eta = learning_schedule(epoch * m + i)\n",
    "        theta = theta - eta * gradients"
   ]
  },
  {
   "cell_type": "code",
   "execution_count": 112,
   "metadata": {},
   "outputs": [
    {
     "data": {
      "text/plain": [
       "array([[ 4.18475289],\n",
       "       [ 2.73036719]])"
      ]
     },
     "execution_count": 112,
     "metadata": {},
     "output_type": "execute_result"
    }
   ],
   "source": [
    "theta"
   ]
  },
  {
   "cell_type": "markdown",
   "metadata": {},
   "source": [
    "**Reminder**: I'm projecting x and y onto the 3D model I've commonly seen on the internet. This is confusing me. https://spin.atomicobject.com/2014/06/24/gradient-descent-linear-regression/ That image's axes are the y-intercept($\\theta_0$), the slope($\\theta_1$), and the error (MSE in this case). Do not confuse these axes with the data points in the dataset.\n",
    "\n",
    "I'm almost there, but I still don't know what part the data itself is playing in finding the $\\theta_0$ and $\\theta_1$. I don't understand how subtracting a gradient from a given theta will allow us to arrive at our answers. \n",
    "\n",
    "Below is how to do this using sklearn."
   ]
  },
  {
   "cell_type": "code",
   "execution_count": 113,
   "metadata": {},
   "outputs": [
    {
     "data": {
      "text/plain": [
       "(array([ 4.2287996]), array([ 2.79011436]))"
      ]
     },
     "execution_count": 113,
     "metadata": {},
     "output_type": "execute_result"
    }
   ],
   "source": [
    "from sklearn.linear_model import SGDRegressor\n",
    "\n",
    "sgd_reg = SGDRegressor(n_iter=50, penalty=None, eta0=0.1)\n",
    "sgd_reg.fit(X, y.ravel()) # ravel() flattens out y into a 1D array\n",
    "sgd_reg.intercept_, sgd_reg.coef_"
   ]
  },
  {
   "cell_type": "markdown",
   "metadata": {},
   "source": [
    "## Polynomial Regression"
   ]
  },
  {
   "cell_type": "code",
   "execution_count": 114,
   "metadata": {},
   "outputs": [
    {
     "data": {
      "text/plain": [
       "[<matplotlib.lines.Line2D at 0x1bff63784e0>]"
      ]
     },
     "execution_count": 114,
     "metadata": {},
     "output_type": "execute_result"
    },
    {
     "data": {
      "image/png": "[encoded data removed]",
      "text/plain": [
       "<matplotlib.figure.Figure at 0x1bff6258c88>"
      ]
     },
     "metadata": {},
     "output_type": "display_data"
    }
   ],
   "source": [
    "m = 100\n",
    "X = 6 * np.random.rand(m, 1) - 3\n",
    "y = 0.5 * X**2 + X + 2 + np.random.randn(m, 1)\n",
    "plt.plot(X, y, 'b.')"
   ]
  },
  {
   "cell_type": "code",
   "execution_count": 115,
   "metadata": {},
   "outputs": [
    {
     "data": {
      "text/plain": [
       "array([ 2.94407494])"
      ]
     },
     "execution_count": 115,
     "metadata": {},
     "output_type": "execute_result"
    }
   ],
   "source": [
    "from sklearn.preprocessing import PolynomialFeatures\n",
    "poly_features = PolynomialFeatures(degree=2, include_bias=False)\n",
    "X_poly = poly_features.fit_transform(X)\n",
    "X[0]"
   ]
  },
  {
   "cell_type": "code",
   "execution_count": 116,
   "metadata": {},
   "outputs": [
    {
     "data": {
      "text/plain": [
       "array([ 2.94407494,  8.66757727])"
      ]
     },
     "execution_count": 116,
     "metadata": {},
     "output_type": "execute_result"
    }
   ],
   "source": [
    "X_poly[0]"
   ]
  },
  {
   "cell_type": "code",
   "execution_count": 117,
   "metadata": {},
   "outputs": [
    {
     "data": {
      "text/plain": [
       "[<matplotlib.lines.Line2D at 0x1bff63895f8>]"
      ]
     },
     "execution_count": 117,
     "metadata": {},
     "output_type": "execute_result"
    },
    {
     "data": {
      "image/png": "[encoded data removed]",
      "text/plain": [
       "<matplotlib.figure.Figure at 0x1bff6389898>"
      ]
     },
     "metadata": {},
     "output_type": "display_data"
    }
   ],
   "source": [
    "lin_reg = LinearRegression()\n",
    "lin_reg.fit(X_poly, y)\n",
    "lin_reg.intercept_, lin_reg.coef_\n",
    "X_new=np.linspace(-3, 3, 100).reshape(100, 1) # Generates 100 numbers evenly spaced between -3 and 3, inclusive\n",
    "X_new_poly = poly_features.transform(X_new)\n",
    "y_new = lin_reg.predict(X_new_poly)\n",
    "plt.plot(X, y, 'b.')\n",
    "plt.plot(X_new, y_new, 'r-')"
   ]
  },
  {
   "cell_type": "markdown",
   "metadata": {},
   "source": [
    "I think the lesson to glean from this is that you should look at your data and determine if a polynomial function would better fit than a linear model. sklearn provides the tools to do this."
   ]
  },
  {
   "cell_type": "markdown",
   "metadata": {},
   "source": [
    "## Learning Curves\n",
    "\n",
    "We can see what is happening to our model has we add more data."
   ]
  },
  {
   "cell_type": "code",
   "execution_count": 118,
   "metadata": {
    "collapsed": true
   },
   "outputs": [],
   "source": [
    "from sklearn.metrics import mean_squared_error\n",
    "from sklearn.model_selection import train_test_split\n",
    "\n",
    "def plot_learning_curves(model, X, y):\n",
    "    X_train, X_val, y_train, y_val = train_test_split(X, y, test_size=0.2, random_state=10)\n",
    "    train_errors, val_errors = [], []\n",
    "    for m in range(1, len(X_train)):\n",
    "        model.fit(X_train[:m], y_train[:m])\n",
    "        y_train_predict = model.predict(X_train[:m])\n",
    "        y_val_predict = model.predict(X_val)\n",
    "        train_errors.append(mean_squared_error(y_train_predict, y_train[:m]))\n",
    "        val_errors.append(mean_squared_error(y_val_predict, y_val))\n",
    "    plt.plot(np.sqrt(train_errors), \"r-+\", linewidth=2, label=\"train\")\n",
    "    plt.plot(np.sqrt(val_errors), \"b-\", linewidth=2, label=\"val\")\n",
    "    plt.xlabel(\"Training set size\", fontsize=14)\n",
    "    plt.ylabel(\"RMSE\", fontsize=14) \n",
    "    plt.legend()"
   ]
  },
  {
   "cell_type": "code",
   "execution_count": 119,
   "metadata": {},
   "outputs": [
    {
     "data": {
      "image/png": "[encoded data removed]",
      "text/plain": [
       "<matplotlib.figure.Figure at 0x1bff638c588>"
      ]
     },
     "metadata": {},
     "output_type": "display_data"
    }
   ],
   "source": [
    "lin_reg = LinearRegression()\n",
    "plot_learning_curves(lin_reg, X, y)"
   ]
  },
  {
   "cell_type": "markdown",
   "metadata": {},
   "source": [
    "This is normal linear regression line being attached to our quadratic looking data. It is underfitting the data. Additionally, the training data fits perfectly at with 1-2 data points then the RMSE increases to a plateau as more data is added. This is because the line can't possibly fit all the data perfectly without overfitting. For validation line, with so few data points used to train the model, it does not generalize well at the beginning, thus a larger RMSE. This shrinks as more data is added.\n",
    "\n",
    "**Note**: Models that underfit the data will not benefit from more data. (Any model will benefit from more data up until a point, which you can see here.) A more complex model is required to reduce MSE further."
   ]
  },
  {
   "cell_type": "code",
   "execution_count": 120,
   "metadata": {},
   "outputs": [
    {
     "data": {
      "text/plain": [
       "[0, 80, 0, 3]"
      ]
     },
     "execution_count": 120,
     "metadata": {},
     "output_type": "execute_result"
    },
    {
     "data": {
      "image/png": "[encoded data removed]",
      "text/plain": [
       "<matplotlib.figure.Figure at 0x1bff35c37f0>"
      ]
     },
     "metadata": {},
     "output_type": "display_data"
    }
   ],
   "source": [
    "from sklearn.pipeline import Pipeline\n",
    "\n",
    "polynomial_regression = Pipeline((\n",
    "        (\"poly_features\", PolynomialFeatures(degree=10, include_bias=False)),\n",
    "        (\"sgd_reg\", LinearRegression()),\n",
    "))\n",
    "\n",
    "plot_learning_curves(polynomial_regression, X, y)\n",
    "plt.axis([0, 80, 0, 3])  "
   ]
  },
  {
   "cell_type": "markdown",
   "metadata": {},
   "source": [
    "Overfitting models can be improved by feeding them more data."
   ]
  },
  {
   "cell_type": "markdown",
   "metadata": {},
   "source": [
    "### Bias/Variance Tradeoff\n",
    "\n",
    "_Bias_: Incorrect assumptiosn resulting in underfitting a model, overgeneralizing the data. \n",
    "\n",
    "_Variance_: Overfitting a model results in excessive sensitivity to small variations in the data. It varies widely, thus a higher variance.\n",
    "\n",
    "_Irreducible error_: Noisiness within the data itself. It can be reduced by cleaning up the data as much as possible.\n",
    "\n",
    "This is a tradeoff since increasing variance will reduce bias and vice versa. Joel Grus makes a good graph of this in _Data Science from Scratch_."
   ]
  },
  {
   "cell_type": "code",
   "execution_count": 121,
   "metadata": {},
   "outputs": [
    {
     "data": {
      "text/plain": [
       "<matplotlib.text.Text at 0x1bff6540518>"
      ]
     },
     "execution_count": 121,
     "metadata": {},
     "output_type": "execute_result"
    },
    {
     "data": {
      "image/png": "[encoded data removed]",
      "text/plain": [
       "<matplotlib.figure.Figure at 0x1bff62c9400>"
      ]
     },
     "metadata": {},
     "output_type": "display_data"
    }
   ],
   "source": [
    "variance = [1, 2, 4, 8, 16, 32, 64, 128, 256]\n",
    "bias_squared = variance[::-1]\n",
    "total_error = [x + y for x, y in zip(variance, bias_squared)]\n",
    "xs = [i for i, _ in enumerate(variance)]\n",
    "\n",
    "plt.plot(xs, variance, 'g-', label='variance')\n",
    "plt.plot(xs, bias_squared, 'r-', label='$bias^2$')\n",
    "plt.plot(xs, total_error, 'b:', label='total error')\n",
    "plt.legend()\n",
    "plt.xlabel(\"model complexity\")\n",
    "plt.title(\"The Bias-Variance Tradeoff\")"
   ]
  },
  {
   "cell_type": "markdown",
   "metadata": {},
   "source": [
    "## Ridge Regression\n",
    "\n",
    "A *regularized* version of linear regression. Essentially, we add a regularization term to the cost function that will keep the weights at a minimum, while also fitting the data. This particular type of regression is also called *Tikhonov regularization*, and its regularization term is $\\alpha\\sum^{n}_{i=1}\\theta^{2}_i$. $\\alpha$ is the hyperparameter that will be adjusted for fit, and the ridge regression will turn into plain old linear regression if it is equal to 0.\n",
    "\n",
    "The data needs to be scaled since it is sensitive to input features."
   ]
  },
  {
   "cell_type": "code",
   "execution_count": 122,
   "metadata": {},
   "outputs": [
    {
     "data": {
      "text/plain": [
       "<matplotlib.legend.Legend at 0x1bff66677f0>"
      ]
     },
     "execution_count": 122,
     "metadata": {},
     "output_type": "execute_result"
    },
    {
     "data": {
      "image/png": "[encoded data removed]",
      "text/plain": [
       "<matplotlib.figure.Figure at 0x1bff64e17f0>"
      ]
     },
     "metadata": {},
     "output_type": "display_data"
    }
   ],
   "source": [
    "from sklearn.linear_model import Ridge\n",
    "from sklearn.preprocessing import StandardScaler\n",
    "\n",
    "\n",
    "np.random.seed(42)\n",
    "m = 20\n",
    "X = 3 * np.random.rand(m, 1)\n",
    "y = 1 + 0.5 * X + np.random.randn(m, 1) / 1.5\n",
    "X_new = np.linspace(0, 3, 100).reshape(100, 1)\n",
    "\n",
    "ridge = Ridge(alpha=10**-5, random_state=42)\n",
    "ridge_pipe = Pipeline([(\"poly_features\", PolynomialFeatures(degree=10, include_bias=False)),\n",
    "                       (\"std_scaler\", StandardScaler()),\n",
    "                       (\"regul_reg\", ridge)])\n",
    "ridge_pipe.fit(X, y)\n",
    "y_new = ridge_pipe.predict(X_new)\n",
    "plt.plot(X, y, \"b.\")\n",
    "plt.plot(X_new, y_new, \"r-\", lw=2, label=\"alpha={}\".format(10**-5))\n",
    "plt.xlabel(\"$x_1$\")\n",
    "plt.legend()"
   ]
  },
  {
   "cell_type": "markdown",
   "metadata": {},
   "source": [
    "You can look at Aurelien's notebook to see how different values of alpha changes the look of the graph. We're using a polynomial model here, so if alpha was 0, it would vary widely, but if alpha was one, it would be linear. Finding the right alpha can help us find the right balance between variance and bias.\n",
    "\n",
    "Our ridge regression cost function $J(\\theta) = MSE(\\theta) + \\alpha\\frac{1}{2}\\sum^{n}_{i=1}\\theta^{2}_i$ turns into a variation of the closed-form Normal Equation:\n",
    "$$\\hat{\\theta} = (X^T\\cdot X + \\alpha A)^{-1}\\cdot X^T\\cdot y$$\n",
    "\n",
    "where **A** is the *n X n* identity matrix except with 0 in the first row in the first column to account for the bias term."
   ]
  },
  {
   "cell_type": "code",
   "execution_count": 123,
   "metadata": {},
   "outputs": [
    {
     "data": {
      "text/plain": [
       "array([[ 1.55071465]])"
      ]
     },
     "execution_count": 123,
     "metadata": {},
     "output_type": "execute_result"
    }
   ],
   "source": [
    "ridge_reg = Ridge(alpha=1, solver=\"cholesky\")\n",
    "ridge_reg.fit(X, y)\n",
    "ridge_reg.predict([[1.5]])"
   ]
  },
  {
   "cell_type": "code",
   "execution_count": 124,
   "metadata": {},
   "outputs": [
    {
     "data": {
      "text/plain": [
       "array([ 1.12795912])"
      ]
     },
     "execution_count": 124,
     "metadata": {},
     "output_type": "execute_result"
    }
   ],
   "source": [
    "# stochastic gradient descent\n",
    "\n",
    "sgd_reg = SGDRegressor(penalty=\"l2\")\n",
    "sgd_reg.fit(X, y.ravel())\n",
    "sgd_reg.predict([[1.5]])"
   ]
  },
  {
   "cell_type": "markdown",
   "metadata": {},
   "source": [
    "The penalty is the regularization term, in this case l2 means to take the half of the square of the l2 norm of the weight vector (Described on the previous page in the book.)"
   ]
  },
  {
   "cell_type": "markdown",
   "metadata": {},
   "source": [
    "## Lasso Regression\n",
    "\n",
    "**L**east **a**bsolute **s**hrinkage and **s**election **o**perator regression.\n",
    "\n",
    "This is very similar to ridge regression, but use the norm of the weight vector $\\mathscr{l}_1$ instead of its half and square $\\mathscr{l}_2$\n",
    "\n",
    "$J(\\theta) = MSE(\\theta) + \\alpha\\sum^{n}_{i=1}|\\theta_i|$\n",
    "\n",
    "From what I can glean, without squaring and halving the  $\\mathscr{l}_2$, we end up dampening high-degree polynomial features so severely that they are either 0 or effectively 0. This in turn ends up with a sparse model. We can use this with gradient descent if we use a subgradient vector.\n",
    "\n",
    "Aurelien doesn't go into much depth here, so I'll have to do some more learning on my own."
   ]
  },
  {
   "cell_type": "code",
   "execution_count": 125,
   "metadata": {},
   "outputs": [
    {
     "data": {
      "text/plain": [
       "array([ 1.53788174])"
      ]
     },
     "execution_count": 125,
     "metadata": {},
     "output_type": "execute_result"
    }
   ],
   "source": [
    "from sklearn.linear_model import Lasso\n",
    "\n",
    "lass_reg = Lasso(alpha=0.1)\n",
    "lass_reg.fit(X, y)\n",
    "lass_reg.predict([[1.5]])"
   ]
  },
  {
   "cell_type": "markdown",
   "metadata": {},
   "source": [
    "## Elastic Net\n",
    "\n",
    "A literal combination of Lasso and Ridge regression. \n",
    "\n",
    "$J(\\theta) = MSE(\\theta) + r\\alpha\\sum^{n}_{i=1}\\mid\\theta_i\\mid + \\frac{1-r}{2}\\alpha\\sum^{n}_{i=1}\\theta^{2}_i$\n",
    "\n",
    "Aurelien's tips on choosing which one to use:\n",
    "\n",
    "- Generally, try to avoid Linear Regression, a little variation generally works better than a straight line.\n",
    "\n",
    "- Ridge is a good default, but if you suspect some features aren't useful, Lasso could be used to drop those weights to zero.\n",
    "\n",
    "- Lasso may behave erratically when the number of features is greater than the number of training instances, so Elastic Net is generally preferred over Lasso."
   ]
  },
  {
   "cell_type": "code",
   "execution_count": 126,
   "metadata": {},
   "outputs": [
    {
     "data": {
      "text/plain": [
       "array([ 1.54333232])"
      ]
     },
     "execution_count": 126,
     "metadata": {},
     "output_type": "execute_result"
    }
   ],
   "source": [
    "from sklearn.linear_model import ElasticNet\n",
    "\n",
    "elastic_net = ElasticNet(alpha=0.1, l1_ratio=0.5)\n",
    "elastic_net.fit(X, y)\n",
    "elastic_net.predict([[1.5]])"
   ]
  },
  {
   "cell_type": "markdown",
   "metadata": {},
   "source": [
    "## Early Stopping\n",
    "\n",
    "After a number of epochs, gradient descent levels out at the minimum value. But if it continues to be trained, it will start to go back up and overfit the training data. Early stopping allows us to stop training as soon as we hit the minimum RMSE. (\"beautiful free lunch\")\n",
    "\n",
    "Sometimes it can be difficult to know when we've arrived at the minimum. What we can do is watch the minimum for sometime, ensure that it has stabilized and use this as the minimum. Or we can wait until the minimum starts to go back up and roll back to the parameters where the minimum was."
   ]
  },
  {
   "cell_type": "code",
   "execution_count": 127,
   "metadata": {},
   "outputs": [],
   "source": [
    "from sklearn.base import clone\n",
    "\n",
    "np.random.seed(42)\n",
    "m = 100\n",
    "X = 6 * np.random.rand(m, 1) - 3\n",
    "y = 2 + X + 0.5 * X**2 + np.random.randn(m, 1)\n",
    "\n",
    "X_train, X_val, y_train, y_val = train_test_split(X[:50], y[:50].ravel(), test_size=0.5, random_state=10)\n",
    "\n",
    "poly_scaler = Pipeline([\n",
    "        (\"poly_features\", PolynomialFeatures(degree=90, include_bias=False)),\n",
    "        (\"std_scaler\", StandardScaler()),\n",
    "    ])\n",
    "\n",
    "X_train_poly_scaled = poly_scaler.fit_transform(X_train)\n",
    "X_val_poly_scaled = poly_scaler.transform(X_val)\n",
    "\n",
    "sgd_ref = SGDRegressor(n_iter=1, warm_start=True, penalty=None, learning_rate=\"constant\", eta0=0.0005)\n",
    "minimum_val_error = float(\"inf\")\n",
    "best_epoch = None\n",
    "best_model = None\n",
    "for epoch in range(1000):\n",
    "    sgd_reg.fit(X_train_poly_scaled, y_train)\n",
    "    y_val_predict = sgd_reg.predict(X_val_poly_scaled)\n",
    "    val_error = mean_squared_error(y_val_predict, y_val)\n",
    "    if val_error < minimum_val_error:\n",
    "        minimum_val_error = val_error\n",
    "        best_epoch = epoch\n",
    "        best_model = clone(sgd_reg)"
   ]
  },
  {
   "cell_type": "markdown",
   "metadata": {},
   "source": [
    "## Logistic Regression\n",
    "\n",
    "Regression for binary classification.\n",
    "\n",
    "Behaves very similarly to linear regression, but outputs a logistic of the result:\n",
    "\n",
    "$\\hat{p}=h_{\\theta}(x)=\\sigma(\\theta^{T}\\cdot x)$\n",
    "\n",
    "where\n",
    "\n",
    "$\\sigma(t) = \\frac{1}{1 + e^{-t}}$\n",
    "\n",
    "This _logit_ is a sigmoid function (S-shaped). It's cost function is a little different:\n",
    "\n",
    "$J(\\theta) = \\frac{1}{m}\\sum^m_{i=1}[y^{(i)}log(\\hat{p^{(i)}}) + (1 - y^{(i)})log(1 - \\hat{p^{(i)}})]$\n",
    "\n"
   ]
  },
  {
   "cell_type": "markdown",
   "metadata": {},
   "source": [
    "## Decision Boundaries\n",
    "\n",
    "We'll use the iris dataset and logistic regression to predict flower species in this famous dataset."
   ]
  },
  {
   "cell_type": "code",
   "execution_count": 128,
   "metadata": {
    "collapsed": true
   },
   "outputs": [],
   "source": [
    "from sklearn import datasets\n",
    "\n",
    "iris = datasets.load_iris()\n",
    "list(iris.keys())\n",
    "X = iris[\"data\"][:, 3:]\n",
    "y = (iris[\"target\"] == 2).astype(np.int)"
   ]
  },
  {
   "cell_type": "raw",
   "metadata": {},
   "source": [
    "iris[\"data\"][:, 3]"
   ]
  },
  {
   "cell_type": "raw",
   "metadata": {},
   "source": [
    "iris[\"data\"][:, 3:]"
   ]
  },
  {
   "cell_type": "markdown",
   "metadata": {},
   "source": [
    "## Reminder:\n",
    "\n",
    "#### Notice the difference between the two 'queries' on this data set. The first returns the third column as a 1D array, whereas the second returns the column as an actual column.\n",
    "\n",
    "I converted these cells to raw since I didn't need their output."
   ]
  },
  {
   "cell_type": "markdown",
   "metadata": {},
   "source": [
    "The iris dataset is imported as a dictionary with the data as a value in the dictionary. I guess we're going to be making our classifications using the petal width. Aurelien doesn't really explain why he jumps immediately to the petal width as the independent variable."
   ]
  },
  {
   "cell_type": "raw",
   "metadata": {},
   "source": [
    "y"
   ]
  },
  {
   "cell_type": "code",
   "execution_count": 129,
   "metadata": {},
   "outputs": [
    {
     "data": {
      "text/plain": [
       "<matplotlib.legend.Legend at 0x1bff672d470>"
      ]
     },
     "execution_count": 129,
     "metadata": {},
     "output_type": "execute_result"
    },
    {
     "data": {
      "image/png": "[encoded data removed]",
      "text/plain": [
       "<matplotlib.figure.Figure at 0x1bff378d668>"
      ]
     },
     "metadata": {},
     "output_type": "display_data"
    }
   ],
   "source": [
    "from sklearn.linear_model import LogisticRegression\n",
    "\n",
    "log_reg = LogisticRegression()\n",
    "log_reg.fit(X, y)\n",
    "\n",
    "X_new = np.linspace(0, 3, 100).reshape(-1, 1)\n",
    "y_proba = log_reg.predict_proba(X_new)\n",
    "plt.plot(X_new, y_proba[:, 1], \"g-\", label=\"Iris-Virginica\")\n",
    "plt.plot(X_new, y_proba[:, 0], \"b--\", label=\"Not Iris-Virginica\")\n",
    "plt.plot()\n",
    "plt.xlabel(\"Petal Width (cm)\")\n",
    "plt.ylabel(\"Probability\")\n",
    "plt.legend()"
   ]
  },
  {
   "cell_type": "markdown",
   "metadata": {},
   "source": [
    "Where the lines cross is the decision boundary."
   ]
  },
  {
   "cell_type": "code",
   "execution_count": 130,
   "metadata": {},
   "outputs": [
    {
     "data": {
      "text/plain": [
       "array([1, 0])"
      ]
     },
     "execution_count": 130,
     "metadata": {},
     "output_type": "execute_result"
    }
   ],
   "source": [
    "log_reg.predict([[1.7], [1.5]])"
   ]
  },
  {
   "cell_type": "markdown",
   "metadata": {},
   "source": [
    "Logistic Regression models can be regularized, but it uses *C*, which is its inverse. The higher the value of C, the less the model is regularized."
   ]
  },
  {
   "cell_type": "code",
   "execution_count": null,
   "metadata": {
    "collapsed": true
   },
   "outputs": [],
   "source": []
  }
 ],
 "metadata": {
  "kernelspec": {
   "display_name": "Python 3",
   "language": "python",
   "name": "python3"
  },
  "language_info": {
   "codemirror_mode": {
    "name": "ipython",
    "version": 3
   },
   "file_extension": ".py",
   "mimetype": "text/x-python",
   "name": "python",
   "nbconvert_exporter": "python",
   "pygments_lexer": "ipython3",
   "version": "3.6.1"
  }
 },
 "nbformat": 4,
 "nbformat_minor": 2
}
